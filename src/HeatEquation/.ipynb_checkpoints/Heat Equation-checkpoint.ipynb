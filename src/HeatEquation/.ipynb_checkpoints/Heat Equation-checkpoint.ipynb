{
 "cells": [
  {
   "cell_type": "markdown",
   "metadata": {},
   "source": [
    "# Diference Heat Equation"
   ]
  },
  {
   "cell_type": "markdown",
   "metadata": {},
   "source": [
    "### Heat Equation: "
   ]
  },
  {
   "cell_type": "markdown",
   "metadata": {},
   "source": [
    "$$ \\frac{\\partial{U}}{\\partial{t}} = \\alpha ^ 2 \\frac{\\partial ^2 U}{\\partial x^2} $$"
   ]
  },
  {
   "cell_type": "markdown",
   "metadata": {},
   "source": [
    "### Heat Difference Equation"
   ]
  },
  {
   "cell_type": "markdown",
   "metadata": {},
   "source": [
    "$$U_{x, t+1} = U_{x, t} + \\alpha ^2\\frac{\\Delta t}{\\Delta x ^2}(U_{x+1, t} + U_{x-1, t} - 2U{x, t})$$"
   ]
  },
  {
   "cell_type": "code",
   "execution_count": 1,
   "metadata": {},
   "outputs": [],
   "source": [
    "%matplotlib inline"
   ]
  },
  {
   "cell_type": "code",
   "execution_count": 2,
   "metadata": {},
   "outputs": [],
   "source": [
    "import numpy as np\n",
    "import matplotlib.pyplot as plt\n",
    "import matplotlib.animation as animation\n",
    "from matplotlib import rc\n",
    "from IPython.display import HTML, Image"
   ]
  },
  {
   "cell_type": "code",
   "execution_count": 9,
   "metadata": {},
   "outputs": [],
   "source": [
    "# ----------------- Constants ----------------- #\n",
    "dx = 0.1 \n",
    "dt = 0.001\n",
    "L = 10          # m (Width)\n",
    "a = 0.000111    # m^2/s(Thermal Diffusivity)"
   ]
  },
  {
   "cell_type": "code",
   "execution_count": 13,
   "metadata": {},
   "outputs": [
    {
     "data": {
      "image/png": "[encoded data removed]",
      "text/plain": [
       "<Figure size 432x288 with 1 Axes>"
      ]
     },
     "metadata": {
      "needs_background": "light"
     },
     "output_type": "display_data"
    }
   ],
   "source": [
    "# ----------------------- Initial Conditions ----------------------- #\n",
    "\n",
    "g_center  = [5]\n",
    "g_t     = [150]\n",
    "i_center = []\n",
    "i_t = []\n",
    "\n",
    "def u0(x, g_center = [], g_t = [], i_center = [], i_t = []):\n",
    "    ret = 0\n",
    "    for i, j in enumerate(g_center):\n",
    "        ret = ret + np.exp(-(x-g_center[i])**2)*g_t[i]\n",
    "    if(x in i_center):\n",
    "        ret += i_t[i_center.index(x)]\n",
    "    return ret\n",
    "\n",
    "x = [u0(i/10, g_center = g_center, g_t = g_t, i_center = i_center, i_t = i_t) for i in range(int(L/dx))]\n",
    "\n",
    "plt.plot(x)\n",
    "plt.show()"
   ]
  },
  {
   "cell_type": "code",
   "execution_count": 7,
   "metadata": {},
   "outputs": [
    {
     "data": {
      "image/png": "[encoded data removed]",
      "text/plain": [
       "<Figure size 432x288 with 1 Axes>"
      ]
     },
     "metadata": {
      "needs_background": "light"
     },
     "output_type": "display_data"
    }
   ],
   "source": [
    "# ---------------------- Iterations ---------------------- #\n",
    "\n",
    "x_max = len(x)-1\n",
    "u      = [i for i in x]     # Temperatures\n",
    "next_u = [i for i in x]     # Next Temperatures\n",
    "\n",
    "k = (a*a*dt)/(dx*dx)\n",
    "\n",
    "fig, ax = plt.subplots()\n",
    "interval = np.arange(0, L/dx)\n",
    "zero = [0 for i in interval]\n",
    "line, = ax.plot(interval, x)\n",
    "ax.set_xlabel(\"Position (cm)\")\n",
    "ax.set_ylabel(\"Temperature (K)\")\n",
    "\n",
    "def init():\n",
    "    line.set_ydata(x)\n",
    "    return line,\n",
    "\n",
    "\n",
    "def animate(i):\n",
    "    global next_u\n",
    "    global u\n",
    "    for j in range(1, x_max):\n",
    "        next_u[j] = k*(u[j-1]+u[j+1]-2*u[j]) + u[j]\n",
    "    next_u[0] = next_u[1]\n",
    "    next_u[x_max] = next_u[x_max-1]\n",
    "    line.set_ydata(next_u)\n",
    "    u = [i for i in next_u]\n",
    "    return line,\n",
    "\n",
    "ani = animation.FuncAnimation(fig, animate, interval=1, blit=True, frames=1000)\n",
    "rc('animation', html='html5')\n",
    "ani.save('animation.gif', writer='imagemagick')"
   ]
  },
  {
   "cell_type": "code",
   "execution_count": 8,
   "metadata": {
    "scrolled": true
   },
   "outputs": [
    {
     "data": {
      "text/html": [
       "<img src=\"animation.gif\"/>"
      ],
      "text/plain": [
       "<IPython.core.display.Image object>"
      ]
     },
     "execution_count": 8,
     "metadata": {},
     "output_type": "execute_result"
    }
   ],
   "source": [
    "Image(url='animation.gif')"
   ]
  },
  {
   "cell_type": "code",
   "execution_count": null,
   "metadata": {},
   "outputs": [],
   "source": []
  }
 ],
 "metadata": {
  "kernelspec": {
   "display_name": "Python 3",
   "language": "python",
   "name": "python3"
  },
  "language_info": {
   "codemirror_mode": {
    "name": "ipython",
    "version": 3
   },
   "file_extension": ".py",
   "mimetype": "text/x-python",
   "name": "python",
   "nbconvert_exporter": "python",
   "pygments_lexer": "ipython3",
   "version": "3.7.3"
  }
 },
 "nbformat": 4,
 "nbformat_minor": 2
}
